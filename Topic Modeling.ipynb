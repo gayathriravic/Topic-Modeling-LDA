{
 "cells": [
  {
   "cell_type": "markdown",
   "metadata": {},
   "source": [
    "# Topic Modelling of one million news headlines using LDA"
   ]
  },
  {
   "cell_type": "code",
   "execution_count": 2,
   "metadata": {},
   "outputs": [],
   "source": [
    "import pandas as pd"
   ]
  },
  {
   "cell_type": "code",
   "execution_count": 3,
   "metadata": {},
   "outputs": [
    {
     "data": {
      "text/html": [
       "<div>\n",
       "<style scoped>\n",
       "    .dataframe tbody tr th:only-of-type {\n",
       "        vertical-align: middle;\n",
       "    }\n",
       "\n",
       "    .dataframe tbody tr th {\n",
       "        vertical-align: top;\n",
       "    }\n",
       "\n",
       "    .dataframe thead th {\n",
       "        text-align: right;\n",
       "    }\n",
       "</style>\n",
       "<table border=\"1\" class=\"dataframe\">\n",
       "  <thead>\n",
       "    <tr style=\"text-align: right;\">\n",
       "      <th></th>\n",
       "      <th>publish_date</th>\n",
       "      <th>headline_text</th>\n",
       "    </tr>\n",
       "  </thead>\n",
       "  <tbody>\n",
       "    <tr>\n",
       "      <th>0</th>\n",
       "      <td>20030219</td>\n",
       "      <td>aba decides against community broadcasting lic...</td>\n",
       "    </tr>\n",
       "    <tr>\n",
       "      <th>1</th>\n",
       "      <td>20030219</td>\n",
       "      <td>act fire witnesses must be aware of defamation</td>\n",
       "    </tr>\n",
       "    <tr>\n",
       "      <th>2</th>\n",
       "      <td>20030219</td>\n",
       "      <td>a g calls for infrastructure protection summit</td>\n",
       "    </tr>\n",
       "    <tr>\n",
       "      <th>3</th>\n",
       "      <td>20030219</td>\n",
       "      <td>air nz staff in aust strike for pay rise</td>\n",
       "    </tr>\n",
       "    <tr>\n",
       "      <th>4</th>\n",
       "      <td>20030219</td>\n",
       "      <td>air nz strike to affect australian travellers</td>\n",
       "    </tr>\n",
       "  </tbody>\n",
       "</table>\n",
       "</div>"
      ],
      "text/plain": [
       "   publish_date                                      headline_text\n",
       "0      20030219  aba decides against community broadcasting lic...\n",
       "1      20030219     act fire witnesses must be aware of defamation\n",
       "2      20030219     a g calls for infrastructure protection summit\n",
       "3      20030219           air nz staff in aust strike for pay rise\n",
       "4      20030219      air nz strike to affect australian travellers"
      ]
     },
     "execution_count": 3,
     "metadata": {},
     "output_type": "execute_result"
    }
   ],
   "source": [
    "data = pd.read_csv('abcnews-date-text.csv', error_bad_lines=False);\n",
    "data.head(5)"
   ]
  },
  {
   "cell_type": "code",
   "execution_count": 6,
   "metadata": {},
   "outputs": [
    {
     "data": {
      "text/plain": [
       "(1103665, 2)"
      ]
     },
     "execution_count": 6,
     "metadata": {},
     "output_type": "execute_result"
    }
   ],
   "source": [
    "data_text = data[['headline_text']]\n",
    "data_text['index'] = data_text.index\n",
    "documents = data_text\n",
    "documents.head(5)\n",
    "documents.shape"
   ]
  },
  {
   "cell_type": "markdown",
   "metadata": {},
   "source": [
    "### Data preprocessing.\n",
    "\n"
   ]
  },
  {
   "cell_type": "code",
   "execution_count": null,
   "metadata": {},
   "outputs": [],
   "source": [
    "We will perform the following steps:\n",
    "\n",
    "1. Tokenization : word counts are features. words are lowercased and punctuations are stripped off.\n",
    "2. Remove words that have a length less than 3\n",
    "3. Removal of stop words.\n",
    "4. Words are lemmatized: words in third person are changed to first person\n",
    "5. Words are stemmed : reduced to root form\n"
   ]
  },
  {
   "cell_type": "code",
   "execution_count": 7,
   "metadata": {},
   "outputs": [
    {
     "name": "stdout",
     "output_type": "stream",
     "text": [
      "[nltk_data] Downloading package wordnet to /Users/gayatri/nltk_data...\n",
      "[nltk_data]   Package wordnet is already up-to-date!\n"
     ]
    },
    {
     "data": {
      "text/plain": [
       "True"
      ]
     },
     "execution_count": 7,
     "metadata": {},
     "output_type": "execute_result"
    }
   ],
   "source": [
    "import gensim\n",
    "from gensim.utils import simple_preprocess\n",
    "from gensim.parsing.preprocessing import STOPWORDS\n",
    "from nltk.stem import WordNetLemmatizer, SnowballStemmer\n",
    "from nltk.stem.porter import *\n",
    "import numpy as np\n",
    "np.random.seed(2018)\n",
    "import nltk\n",
    "nltk.download('wordnet')\n"
   ]
  },
  {
   "cell_type": "code",
   "execution_count": 20,
   "metadata": {},
   "outputs": [],
   "source": [
    "stemmer = PorterStemmer()\n",
    "lemmatizer = WordNetLemmatizer()\n",
    "\n",
    "def lemmatize_and_stem(text):  ## lemmatize and stem the text.\n",
    "    lemmatized_text = lemmatizer.lemmatize(text,'v')# lemmatized\n",
    "    stemmer_text = stemmer.stem(lemmatized_text)  # stemmed\n",
    "    return stemmer_text\n",
    "\n",
    "def preprocess(text):\n",
    "    result = []\n",
    "    for token in gensim.utils.simple_preprocess(text):\n",
    "        if token not in gensim.parsing.preprocessing.STOPWORDS and len(token) > 3:\n",
    "            result.append(lemmatize_and_stem(token))\n",
    "    return result"
   ]
  },
  {
   "cell_type": "code",
   "execution_count": 25,
   "metadata": {},
   "outputs": [
    {
     "name": "stdout",
     "output_type": "stream",
     "text": [
      "original document: \n",
      "gunners out to take advantage of absent enemies\n",
      "\n",
      "Words in the document\n",
      "['gunners', 'out', 'to', 'take', 'advantage', 'of', 'absent', 'enemies']\n",
      "\n",
      "\n",
      " Tokenized,Lemmatized and Stemmed document: \n",
      "['gunner', 'advantag', 'absent', 'enemi']\n"
     ]
    }
   ],
   "source": [
    "doc_sample = documents[documents['index'] == 2010].values[0][0]\n",
    "print('original document: ')\n",
    "print(doc_sample)\n",
    "\n",
    "words = []\n",
    "for word in doc_sample.split(' '):\n",
    "    words.append(word)\n",
    "print(\"\\nWords in the document\")\n",
    "print(words)\n",
    "\n",
    "\"\"\"\n",
    "Stop words are removed.\n",
    "Words are lemmatized, tokenized and stemmed.\n",
    "\"\"\"\n",
    "\n",
    "print('\\n\\n Tokenized,Lemmatized and Stemmed document: ')\n",
    "print(preprocess(doc_sample))"
   ]
  },
  {
   "cell_type": "markdown",
   "metadata": {},
   "source": [
    "#####  Let us pre-process all the headlines."
   ]
  },
  {
   "cell_type": "code",
   "execution_count": 26,
   "metadata": {},
   "outputs": [
    {
     "data": {
      "text/plain": [
       "0               [decid, commun, broadcast, licenc]\n",
       "1                               [wit, awar, defam]\n",
       "2           [call, infrastructur, protect, summit]\n",
       "3                      [staff, aust, strike, rise]\n",
       "4             [strike, affect, australian, travel]\n",
       "5               [ambiti, olsson, win, tripl, jump]\n",
       "6           [antic, delight, record, break, barca]\n",
       "7    [aussi, qualifi, stosur, wast, memphi, match]\n",
       "8            [aust, address, secur, council, iraq]\n",
       "9                         [australia, lock, timet]\n",
       "Name: headline_text, dtype: object"
      ]
     },
     "execution_count": 26,
     "metadata": {},
     "output_type": "execute_result"
    }
   ],
   "source": [
    "processed_docs = documents['headline_text'].map(preprocess)\n",
    "processed_docs[:10]"
   ]
  },
  {
   "cell_type": "markdown",
   "metadata": {},
   "source": [
    "# Creating a Bag of Words model from the processed news headlines"
   ]
  },
  {
   "cell_type": "code",
   "execution_count": 27,
   "metadata": {},
   "outputs": [],
   "source": [
    "dictionary = gensim.corpora.Dictionary(processed_docs)   # dictionary will contain the number of times a word appears in the training set.\n"
   ]
  },
  {
   "cell_type": "code",
   "execution_count": 28,
   "metadata": {},
   "outputs": [],
   "source": [
    "\"\"\"\n",
    "We will filter out tokens whose frequency < 15\n",
    "We will also filter out tokens that appear in more 0.5 times of the corpus size.\n",
    "We will keep the top 100000\n",
    "\"\"\"\n",
    "\n",
    "dictionary.filter_extremes(no_below=15, no_above=0.5, keep_n=100000)\n"
   ]
  },
  {
   "cell_type": "code",
   "execution_count": null,
   "metadata": {},
   "outputs": [],
   "source": []
  },
  {
   "cell_type": "code",
   "execution_count": 39,
   "metadata": {},
   "outputs": [
    {
     "data": {
      "text/plain": [
       "[(76, 1), (112, 1), (483, 1), (4021, 1)]"
      ]
     },
     "execution_count": 39,
     "metadata": {},
     "output_type": "execute_result"
    }
   ],
   "source": [
    "\"\"\"\n",
    "For each document we create a dictionary reporting how many words and how many times those words appear.\n",
    "\"\"\"\n",
    "bow_corpus = [dictionary.doc2bow(doc) for doc in processed_docs]"
   ]
  },
  {
   "cell_type": "code",
   "execution_count": 47,
   "metadata": {},
   "outputs": [
    {
     "data": {
      "text/plain": [
       "[(1722, 1), (2732, 1), (2733, 1), (2734, 1)]"
      ]
     },
     "execution_count": 47,
     "metadata": {},
     "output_type": "execute_result"
    }
   ],
   "source": [
    "bow_corpus[2010]"
   ]
  },
  {
   "cell_type": "markdown",
   "metadata": {},
   "source": [
    "# TF-IDF  "
   ]
  },
  {
   "cell_type": "code",
   "execution_count": 52,
   "metadata": {},
   "outputs": [
    {
     "name": "stdout",
     "output_type": "stream",
     "text": [
      "TfidfModel(num_docs=1103665, num_nnz=4901459)\n"
     ]
    }
   ],
   "source": [
    "\"\"\"\n",
    "Create tf-idf model object using models.\n",
    "\n",
    "\"\"\"\n",
    "\n",
    "from gensim import corpora, models\n",
    "tfidf = models.TfidfModel(bow_corpus)\n",
    "print(tfidf)"
   ]
  },
  {
   "cell_type": "code",
   "execution_count": 54,
   "metadata": {},
   "outputs": [
    {
     "name": "stdout",
     "output_type": "stream",
     "text": [
      "[(0, 0.5903602896750699),\n",
      " (1, 0.38524510107363613),\n",
      " (2, 0.4974556071174764),\n",
      " (3, 0.5055678583740412)]\n"
     ]
    }
   ],
   "source": [
    "corpus_tfidf = tfidf[bow_corpus]\n",
    "from pprint import pprint\n",
    "for doc in corpus_tfidf:\n",
    "    pprint(doc)\n",
    "    break"
   ]
  },
  {
   "cell_type": "markdown",
   "metadata": {},
   "source": [
    "# Training LDA using Bag of words"
   ]
  },
  {
   "cell_type": "code",
   "execution_count": 55,
   "metadata": {},
   "outputs": [],
   "source": [
    "lda_model = gensim.models.LdaMulticore(bow_corpus, num_topics=10, id2word=dictionary, passes=2, workers=2)"
   ]
  },
  {
   "cell_type": "code",
   "execution_count": 56,
   "metadata": {},
   "outputs": [
    {
     "name": "stdout",
     "output_type": "stream",
     "text": [
      "Topic: 0 \n",
      "Words: 0.032*\"queensland\" + 0.021*\"countri\" + 0.019*\"hospit\" + 0.018*\"tasmanian\" + 0.017*\"hour\" + 0.015*\"work\" + 0.015*\"children\" + 0.013*\"citi\" + 0.011*\"prison\" + 0.010*\"young\"\n",
      "Topic: 1 \n",
      "Words: 0.030*\"australia\" + 0.023*\"world\" + 0.017*\"market\" + 0.012*\"record\" + 0.012*\"share\" + 0.011*\"victoria\" + 0.010*\"industri\" + 0.009*\"melbourn\" + 0.009*\"port\" + 0.009*\"australian\"\n",
      "Topic: 2 \n",
      "Words: 0.035*\"trump\" + 0.022*\"kill\" + 0.021*\"north\" + 0.020*\"coast\" + 0.016*\"china\" + 0.014*\"west\" + 0.014*\"adelaid\" + 0.014*\"attack\" + 0.013*\"price\" + 0.013*\"gold\"\n",
      "Topic: 3 \n",
      "Words: 0.027*\"govern\" + 0.017*\"plan\" + 0.014*\"council\" + 0.013*\"rural\" + 0.013*\"say\" + 0.012*\"indigen\" + 0.012*\"turnbul\" + 0.012*\"water\" + 0.011*\"chang\" + 0.011*\"commun\"\n",
      "Topic: 4 \n",
      "Words: 0.017*\"tasmania\" + 0.015*\"time\" + 0.015*\"fight\" + 0.014*\"life\" + 0.013*\"lose\" + 0.011*\"john\" + 0.009*\"premier\" + 0.009*\"unit\" + 0.008*\"compani\" + 0.008*\"michael\"\n",
      "Topic: 5 \n",
      "Words: 0.028*\"elect\" + 0.023*\"south\" + 0.020*\"open\" + 0.014*\"australia\" + 0.013*\"final\" + 0.013*\"nation\" + 0.011*\"park\" + 0.011*\"australian\" + 0.010*\"budget\" + 0.010*\"polit\"\n",
      "Topic: 6 \n",
      "Words: 0.017*\"brisban\" + 0.016*\"famili\" + 0.014*\"child\" + 0.013*\"report\" + 0.013*\"jail\" + 0.011*\"abus\" + 0.011*\"sentenc\" + 0.011*\"show\" + 0.010*\"victim\" + 0.009*\"releas\"\n",
      "Topic: 7 \n",
      "Words: 0.023*\"hous\" + 0.019*\"die\" + 0.016*\"home\" + 0.014*\"crash\" + 0.014*\"break\" + 0.013*\"take\" + 0.011*\"lead\" + 0.010*\"near\" + 0.010*\"perth\" + 0.009*\"star\"\n",
      "Topic: 8 \n",
      "Words: 0.034*\"polic\" + 0.018*\"interview\" + 0.018*\"health\" + 0.018*\"sydney\" + 0.017*\"miss\" + 0.014*\"investig\" + 0.013*\"concern\" + 0.011*\"search\" + 0.011*\"call\" + 0.011*\"servic\"\n",
      "Topic: 9 \n",
      "Words: 0.031*\"charg\" + 0.030*\"court\" + 0.023*\"murder\" + 0.022*\"polic\" + 0.019*\"face\" + 0.015*\"accus\" + 0.015*\"donald\" + 0.014*\"woman\" + 0.014*\"drug\" + 0.013*\"arrest\"\n"
     ]
    }
   ],
   "source": [
    "for idx, topic in lda_model.print_topics(-1):\n",
    "    print('Topic: {} \\nWords: {}'.format(idx, topic))"
   ]
  },
  {
   "cell_type": "markdown",
   "metadata": {},
   "source": [
    "# Testing LDA Usinf Bag of Words on Unseen document"
   ]
  },
  {
   "cell_type": "code",
   "execution_count": 57,
   "metadata": {},
   "outputs": [
    {
     "data": {
      "text/plain": [
       "['rain', 'help', 'dampen', 'bushfir']"
      ]
     },
     "execution_count": 57,
     "metadata": {},
     "output_type": "execute_result"
    }
   ],
   "source": [
    "processed_docs[4310]\n"
   ]
  },
  {
   "cell_type": "code",
   "execution_count": 58,
   "metadata": {},
   "outputs": [
    {
     "name": "stdout",
     "output_type": "stream",
     "text": [
      "\n",
      "Score: 0.41999998688697815\t \n",
      "Topic: 0.023*\"hous\" + 0.019*\"die\" + 0.016*\"home\" + 0.014*\"crash\" + 0.014*\"break\" + 0.013*\"take\" + 0.011*\"lead\" + 0.010*\"near\" + 0.010*\"perth\" + 0.009*\"star\"\n",
      "\n",
      "Score: 0.4199971556663513\t \n",
      "Topic: 0.027*\"govern\" + 0.017*\"plan\" + 0.014*\"council\" + 0.013*\"rural\" + 0.013*\"say\" + 0.012*\"indigen\" + 0.012*\"turnbul\" + 0.012*\"water\" + 0.011*\"chang\" + 0.011*\"commun\"\n",
      "\n",
      "Score: 0.020001811906695366\t \n",
      "Topic: 0.017*\"brisban\" + 0.016*\"famili\" + 0.014*\"child\" + 0.013*\"report\" + 0.013*\"jail\" + 0.011*\"abus\" + 0.011*\"sentenc\" + 0.011*\"show\" + 0.010*\"victim\" + 0.009*\"releas\"\n",
      "\n",
      "Score: 0.020001016557216644\t \n",
      "Topic: 0.034*\"polic\" + 0.018*\"interview\" + 0.018*\"health\" + 0.018*\"sydney\" + 0.017*\"miss\" + 0.014*\"investig\" + 0.013*\"concern\" + 0.011*\"search\" + 0.011*\"call\" + 0.011*\"servic\"\n",
      "\n",
      "Score: 0.0200000312179327\t \n",
      "Topic: 0.035*\"trump\" + 0.022*\"kill\" + 0.021*\"north\" + 0.020*\"coast\" + 0.016*\"china\" + 0.014*\"west\" + 0.014*\"adelaid\" + 0.014*\"attack\" + 0.013*\"price\" + 0.013*\"gold\"\n",
      "\n",
      "Score: 0.019999999552965164\t \n",
      "Topic: 0.032*\"queensland\" + 0.021*\"countri\" + 0.019*\"hospit\" + 0.018*\"tasmanian\" + 0.017*\"hour\" + 0.015*\"work\" + 0.015*\"children\" + 0.013*\"citi\" + 0.011*\"prison\" + 0.010*\"young\"\n",
      "\n",
      "Score: 0.019999999552965164\t \n",
      "Topic: 0.030*\"australia\" + 0.023*\"world\" + 0.017*\"market\" + 0.012*\"record\" + 0.012*\"share\" + 0.011*\"victoria\" + 0.010*\"industri\" + 0.009*\"melbourn\" + 0.009*\"port\" + 0.009*\"australian\"\n",
      "\n",
      "Score: 0.019999999552965164\t \n",
      "Topic: 0.017*\"tasmania\" + 0.015*\"time\" + 0.015*\"fight\" + 0.014*\"life\" + 0.013*\"lose\" + 0.011*\"john\" + 0.009*\"premier\" + 0.009*\"unit\" + 0.008*\"compani\" + 0.008*\"michael\"\n",
      "\n",
      "Score: 0.019999999552965164\t \n",
      "Topic: 0.028*\"elect\" + 0.023*\"south\" + 0.020*\"open\" + 0.014*\"australia\" + 0.013*\"final\" + 0.013*\"nation\" + 0.011*\"park\" + 0.011*\"australian\" + 0.010*\"budget\" + 0.010*\"polit\"\n",
      "\n",
      "Score: 0.019999999552965164\t \n",
      "Topic: 0.031*\"charg\" + 0.030*\"court\" + 0.023*\"murder\" + 0.022*\"polic\" + 0.019*\"face\" + 0.015*\"accus\" + 0.015*\"donald\" + 0.014*\"woman\" + 0.014*\"drug\" + 0.013*\"arrest\"\n"
     ]
    }
   ],
   "source": [
    "for index, score in sorted(lda_model[bow_corpus[4310]], key=lambda tup: -1*tup[1]):\n",
    "    print(\"\\nScore: {}\\t \\nTopic: {}\".format(score, lda_model.print_topic(index, 10)))"
   ]
  },
  {
   "cell_type": "markdown",
   "metadata": {},
   "source": [
    "# Training LDA Using TF-IDF"
   ]
  },
  {
   "cell_type": "code",
   "execution_count": 59,
   "metadata": {},
   "outputs": [
    {
     "name": "stdout",
     "output_type": "stream",
     "text": [
      "Topic: 0 Word: 0.017*\"market\" + 0.014*\"news\" + 0.012*\"rural\" + 0.009*\"price\" + 0.009*\"share\" + 0.008*\"rise\" + 0.008*\"street\" + 0.007*\"busi\" + 0.006*\"rat\" + 0.006*\"sexual\"\n",
      "Topic: 1 Word: 0.021*\"countri\" + 0.019*\"hour\" + 0.008*\"weather\" + 0.006*\"ash\" + 0.005*\"cancer\" + 0.004*\"search\" + 0.004*\"tasmania\" + 0.004*\"northern\" + 0.004*\"cattl\" + 0.004*\"music\"\n",
      "Topic: 2 Word: 0.009*\"royal\" + 0.008*\"donald\" + 0.008*\"sport\" + 0.008*\"christma\" + 0.007*\"abbott\" + 0.007*\"commiss\" + 0.006*\"monday\" + 0.006*\"octob\" + 0.006*\"rain\" + 0.006*\"dairi\"\n",
      "Topic: 3 Word: 0.007*\"climat\" + 0.007*\"korea\" + 0.007*\"malcolm\" + 0.007*\"care\" + 0.007*\"august\" + 0.006*\"andrew\" + 0.006*\"chang\" + 0.005*\"john\" + 0.005*\"nurs\" + 0.005*\"say\"\n",
      "Topic: 4 Word: 0.019*\"trump\" + 0.008*\"peopl\" + 0.007*\"queensland\" + 0.006*\"friday\" + 0.006*\"asylum\" + 0.006*\"stori\" + 0.005*\"david\" + 0.005*\"seeker\" + 0.005*\"toni\" + 0.004*\"blog\"\n",
      "Topic: 5 Word: 0.011*\"govern\" + 0.009*\"elect\" + 0.007*\"health\" + 0.007*\"turnbul\" + 0.007*\"fund\" + 0.006*\"budget\" + 0.006*\"labor\" + 0.006*\"say\" + 0.005*\"state\" + 0.005*\"michael\"\n",
      "Topic: 6 Word: 0.019*\"charg\" + 0.018*\"polic\" + 0.015*\"murder\" + 0.013*\"court\" + 0.010*\"woman\" + 0.010*\"jail\" + 0.010*\"death\" + 0.009*\"child\" + 0.009*\"alleg\" + 0.009*\"arrest\"\n",
      "Topic: 7 Word: 0.014*\"crash\" + 0.011*\"kill\" + 0.011*\"drum\" + 0.008*\"die\" + 0.008*\"dead\" + 0.006*\"truck\" + 0.006*\"injur\" + 0.005*\"south\" + 0.005*\"plane\" + 0.005*\"thursday\"\n",
      "Topic: 8 Word: 0.008*\"marriag\" + 0.007*\"violenc\" + 0.007*\"septemb\" + 0.007*\"domest\" + 0.006*\"june\" + 0.006*\"pacif\" + 0.005*\"farm\" + 0.005*\"australia\" + 0.005*\"smith\" + 0.005*\"explain\"\n",
      "Topic: 9 Word: 0.012*\"interview\" + 0.010*\"podcast\" + 0.009*\"leagu\" + 0.008*\"grandstand\" + 0.007*\"world\" + 0.007*\"final\" + 0.006*\"cricket\" + 0.006*\"peter\" + 0.006*\"wednesday\" + 0.006*\"tuesday\"\n"
     ]
    }
   ],
   "source": [
    "lda_model_tfidf = gensim.models.LdaMulticore(corpus_tfidf, num_topics=10, id2word=dictionary, passes=2, workers=4)\n",
    "for idx, topic in lda_model_tfidf.print_topics(-1):\n",
    "    print('Topic: {} Word: {}'.format(idx, topic))"
   ]
  },
  {
   "cell_type": "code",
   "execution_count": 61,
   "metadata": {},
   "outputs": [
    {
     "name": "stdout",
     "output_type": "stream",
     "text": [
      "Score: 0.36666667461395264\t Topic: 0.017*\"brisban\" + 0.016*\"famili\" + 0.014*\"child\" + 0.013*\"report\" + 0.013*\"jail\"\n",
      "Score: 0.36666667461395264\t Topic: 0.031*\"charg\" + 0.030*\"court\" + 0.023*\"murder\" + 0.022*\"polic\" + 0.019*\"face\"\n",
      "Score: 0.03333333507180214\t Topic: 0.032*\"queensland\" + 0.021*\"countri\" + 0.019*\"hospit\" + 0.018*\"tasmanian\" + 0.017*\"hour\"\n",
      "Score: 0.03333333507180214\t Topic: 0.030*\"australia\" + 0.023*\"world\" + 0.017*\"market\" + 0.012*\"record\" + 0.012*\"share\"\n",
      "Score: 0.03333333507180214\t Topic: 0.035*\"trump\" + 0.022*\"kill\" + 0.021*\"north\" + 0.020*\"coast\" + 0.016*\"china\"\n",
      "Score: 0.03333333507180214\t Topic: 0.027*\"govern\" + 0.017*\"plan\" + 0.014*\"council\" + 0.013*\"rural\" + 0.013*\"say\"\n",
      "Score: 0.03333333507180214\t Topic: 0.017*\"tasmania\" + 0.015*\"time\" + 0.015*\"fight\" + 0.014*\"life\" + 0.013*\"lose\"\n",
      "Score: 0.03333333507180214\t Topic: 0.028*\"elect\" + 0.023*\"south\" + 0.020*\"open\" + 0.014*\"australia\" + 0.013*\"final\"\n",
      "Score: 0.03333333507180214\t Topic: 0.023*\"hous\" + 0.019*\"die\" + 0.016*\"home\" + 0.014*\"crash\" + 0.014*\"break\"\n",
      "Score: 0.03333333507180214\t Topic: 0.034*\"polic\" + 0.018*\"interview\" + 0.018*\"health\" + 0.018*\"sydney\" + 0.017*\"miss\"\n"
     ]
    }
   ],
   "source": [
    "unseen_document = 'Murder on 27th Street'\n",
    "bow_vector = dictionary.doc2bow(preprocess(unseen_document))\n",
    "for index, score in sorted(lda_model[bow_vector], key=lambda tup: -1*tup[1]):\n",
    "    print(\"Score: {}\\t Topic: {}\".format(score, lda_model.print_topic(index, 5)))"
   ]
  },
  {
   "cell_type": "code",
   "execution_count": null,
   "metadata": {},
   "outputs": [],
   "source": []
  }
 ],
 "metadata": {
  "kernelspec": {
   "display_name": "Python 3",
   "language": "python",
   "name": "python3"
  },
  "language_info": {
   "codemirror_mode": {
    "name": "ipython",
    "version": 3
   },
   "file_extension": ".py",
   "mimetype": "text/x-python",
   "name": "python",
   "nbconvert_exporter": "python",
   "pygments_lexer": "ipython3",
   "version": "3.6.4"
  }
 },
 "nbformat": 4,
 "nbformat_minor": 2
}
